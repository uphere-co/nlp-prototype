{
 "cells": [
  {
   "cell_type": "code",
   "execution_count": null,
   "metadata": {
    "collapsed": false
   },
   "outputs": [],
   "source": [
    "import zmq\n",
    "import sys\n",
    "\n",
    "!rm /data/groups/uphere/figs/*png\n",
    "context = zmq.Context()\n",
    "\n",
    "socket = context.socket(zmq.REQ)\n",
    "host='localhost'\n",
    "port=10100\n",
    "socket.connect (\"tcp://%s:%s\" % (host,port))\n",
    "\n",
    "socket_vis = context.socket(zmq.REQ)\n",
    "host='localhost'\n",
    "port=10101\n",
    "socket_vis.connect (\"tcp://%s:%s\" % (host,port))"
   ]
  },
  {
   "cell_type": "code",
   "execution_count": null,
   "metadata": {
    "collapsed": false
   },
   "outputs": [],
   "source": [
    "for query in ['lepton', 'lepton electron', 'muon electron', 'electron muon tau', 'Chromium']:\n",
    "    socket.send (query)\n",
    "    words_str = socket.recv()\n",
    "    print query,': ', words_str\n",
    "    socket_vis.send(words_str)\n",
    "    path = socket_vis.recv()\n",
    "    print \"Save figs in %s\"%path   "
   ]
  }
 ],
 "metadata": {
  "kernelspec": {
   "display_name": "Python 2",
   "language": "python",
   "name": "python2"
  },
  "language_info": {
   "codemirror_mode": {
    "name": "ipython",
    "version": 2
   },
   "file_extension": ".py",
   "mimetype": "text/x-python",
   "name": "python",
   "nbconvert_exporter": "python",
   "pygments_lexer": "ipython2",
   "version": "2.7.11"
  }
 },
 "nbformat": 4,
 "nbformat_minor": 0
}
