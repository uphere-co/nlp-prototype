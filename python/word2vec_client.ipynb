{
 "cells": [
  {
   "cell_type": "code",
   "execution_count": 12,
   "metadata": {
    "collapsed": false
   },
   "outputs": [],
   "source": [
    "import zmq\n",
    "import sys\n",
    "\n",
    "context = zmq.Context()\n",
    "socket = context.socket(zmq.REQ)\n",
    "\n",
    "host='localhost'\n",
    "port=10100\n",
    "socket.connect (\"tcp://%s:%s\" % (host,port))"
   ]
  },
  {
   "cell_type": "code",
   "execution_count": 14,
   "metadata": {
    "collapsed": false
   },
   "outputs": [
    {
     "name": "stdout",
     "output_type": "stream",
     "text": [
      "lepton :  leptons Lepton slepton flavor flavour baryon top-quark leptonic squark like-sign\n",
      "lepton electron :  proton photon particle electrons muon ion hadron neutrino nucleon positron\n",
      "muon electron :  proton positron UCN antiproton neutrons photon (anti)neutrino antineutrino ion electron-neutrino\n",
      "electron muon tau :  proton antineutrino antiproton positron anti-neutrino muons electron-neutrino photon $\\nu_\\mu$ muons,\n",
      "Chromium :  microtraps. Tb$^{3+}$ Rubidium $^{199}$Hg Rb-85 Rb}$ alkali-metal alkaline-earth dysprosium francium\n"
     ]
    }
   ],
   "source": [
    "for query in ['lepton', 'lepton electron', 'muon electron', 'electron muon tau', 'Chromium']:\n",
    "    socket.send (query)\n",
    "    print query,': ', socket.recv()"
   ]
  }
 ],
 "metadata": {
  "kernelspec": {
   "display_name": "Python 2",
   "language": "python",
   "name": "python2"
  },
  "language_info": {
   "codemirror_mode": {
    "name": "ipython",
    "version": 2
   },
   "file_extension": ".py",
   "mimetype": "text/x-python",
   "name": "python",
   "nbconvert_exporter": "python",
   "pygments_lexer": "ipython2",
   "version": "2.7.11"
  }
 },
 "nbformat": 4,
 "nbformat_minor": 0
}
