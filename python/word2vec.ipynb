{
 "cells": [
  {
   "cell_type": "code",
   "execution_count": 22,
   "metadata": {
    "collapsed": true
   },
   "outputs": [],
   "source": [
    "from gensim.models import Word2Vec\n",
    "from gensim import models\n",
    "import os \n",
    "#import nltk"
   ]
  },
  {
   "cell_type": "code",
   "execution_count": 28,
   "metadata": {
    "collapsed": false
   },
   "outputs": [
    {
     "name": "stdout",
     "output_type": "stream",
     "text": [
      "CPU times: user 46min 56s, sys: 18 s, total: 47min 14s\n",
      "Wall time: 11min 50s\n"
     ]
    }
   ],
   "source": [
    "path = os.environ.get('HOME')+'/arxiv/'\n",
    "%time word2vec_arxiv = Word2Vec(models.word2vec.LineSentence(path+'abstracts'), workers=24)"
   ]
  },
  {
   "cell_type": "code",
   "execution_count": 31,
   "metadata": {
    "collapsed": false
   },
   "outputs": [
    {
     "data": {
      "text/plain": [
       "[(u'hadronic', 0.7983640432357788),\n",
       " (u'quarkonium', 0.7782545685768127),\n",
       " (u'hadrons', 0.7614572048187256),\n",
       " (u'quarkonia', 0.7514031529426575),\n",
       " (u'pion', 0.7254447340965271),\n",
       " (u'kaon', 0.7181622982025146),\n",
       " (u'dilepton', 0.717350959777832),\n",
       " (u'dijet', 0.7043973207473755),\n",
       " (u'heavy-ion', 0.7039762735366821),\n",
       " (u'$\\\\pi^0$', 0.6995949745178223)]"
      ]
     },
     "execution_count": 31,
     "metadata": {},
     "output_type": "execute_result"
    }
   ],
   "source": [
    "word2vec_arxiv.most_similar('hadron')"
   ]
  }
 ],
 "metadata": {
  "kernelspec": {
   "display_name": "Python 2",
   "language": "python",
   "name": "python2"
  },
  "language_info": {
   "codemirror_mode": {
    "name": "ipython",
    "version": 2
   },
   "file_extension": ".py",
   "mimetype": "text/x-python",
   "name": "python",
   "nbconvert_exporter": "python",
   "pygments_lexer": "ipython2",
   "version": "2.7.9"
  }
 },
 "nbformat": 4,
 "nbformat_minor": 0
}
