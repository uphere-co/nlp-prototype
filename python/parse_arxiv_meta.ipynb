{
 "cells": [
  {
   "cell_type": "code",
   "execution_count": 1,
   "metadata": {
    "collapsed": true
   },
   "outputs": [],
   "source": [
    "import ipyparallel as ipp\n",
    "c = ipp.Client()\n",
    "dview = c[:]"
   ]
  },
  {
   "cell_type": "code",
   "execution_count": 2,
   "metadata": {
    "collapsed": true
   },
   "outputs": [],
   "source": [
    "%%px\n",
    "import gzip\n",
    "import xml.etree.ElementTree as ET\n",
    "import untangle\n",
    "import codecs"
   ]
  },
  {
   "cell_type": "code",
   "execution_count": 3,
   "metadata": {
    "collapsed": false
   },
   "outputs": [
    {
     "name": "stdout",
     "output_type": "stream",
     "text": [
      "Read XMLs from /home/SRC_snu/arxiv/\n"
     ]
    }
   ],
   "source": [
    "import os \n",
    "path = os.environ.get('ARXIV_META')\n",
    "#Set path directly when running this file as notebook \n",
    "if not path:\n",
    "    path = os.environ.get('HOME')+'/arxiv/'\n",
    "print \"Read XMLs from\", path\n",
    "zipped_xmls = !ls {path+'*.xml.gz'}\n",
    "id=0"
   ]
  },
  {
   "cell_type": "code",
   "execution_count": 4,
   "metadata": {
    "collapsed": false
   },
   "outputs": [],
   "source": [
    "dview.scatter('zipped_xmls', zipped_xmls)\n",
    "dview.scatter('id', c.ids)\n",
    "dview['path']=path\n",
    "%px id=id[0]\n",
    "#%px id, len(zipped_xmls)"
   ]
  },
  {
   "cell_type": "code",
   "execution_count": 5,
   "metadata": {
    "collapsed": false
   },
   "outputs": [],
   "source": [
    "%%px\n",
    "def GetTitle(record):\n",
    "    return record.metadata.oai_dc_dc.dc_title.cdata\n",
    "\n",
    "def GetAbstract(record):\n",
    "    x = record.metadata.oai_dc_dc.dc_description\n",
    "    if type(x) is list :\n",
    "        return x[0].cdata\n",
    "    return x.cdata\n",
    "\n",
    "def GetSubjects(record):\n",
    "    x = record.metadata.oai_dc_dc.dc_subject\n",
    "    if type(x) is list:\n",
    "        subjects =  [elm.cdata for elm in x]\n",
    "    else:\n",
    "        subjects = [x.cdata]\n",
    "    #return [x for x in itertools.chain.from_iterable(subjects) if x[0].isalpha()]\n",
    "    #return [x for x in subjects if x[:2].isalpha()]\n",
    "    return subjects\n",
    "\n",
    "def GetHighLevelSubject(subject):\n",
    "    return subject.split('-')[0]\n",
    "\n",
    "def YieldAbstracts(xmls):\n",
    "    for xml in xmls:\n",
    "        for record in xml.Response.ListRecords.record:\n",
    "            try:\n",
    "                yield GetAbstract(record).strip().replace('\\n',' ')\n",
    "            except:\n",
    "                #print type(record)\n",
    "                #print record.metadata\n",
    "                pass"
   ]
  },
  {
   "cell_type": "code",
   "execution_count": 6,
   "metadata": {
    "collapsed": true
   },
   "outputs": [],
   "source": [
    "%%px\n",
    "xml_contents = [gzip.open(zxml).read() for zxml in zipped_xmls]\n",
    "xmls = [untangle.parse(xml) for xml in xml_contents]"
   ]
  },
  {
   "cell_type": "code",
   "execution_count": null,
   "metadata": {
    "collapsed": true
   },
   "outputs": [],
   "source": [
    "#For storing abstracts in multiple files\n",
    "#%%px\n",
    "#with codecs.open(path+'abstract.%d'%id,'w', 'utf-8') as out:\n",
    "#    for abstract in YieldAbstracts(xmls):\n",
    "#        out.write(abstract+'\\n')            "
   ]
  },
  {
   "cell_type": "code",
   "execution_count": 14,
   "metadata": {
    "collapsed": false
   },
   "outputs": [],
   "source": [
    "import codecs\n",
    "abstracts = dview.gather('abstracts')\n",
    "with codecs.open(path+'abstracts','w', 'utf-8') as out:\n",
    "    for abstract in abstracts.result():\n",
    "        out.write(abstract+'\\n')            "
   ]
  }
 ],
 "metadata": {
  "kernelspec": {
   "display_name": "Python 2",
   "language": "python",
   "name": "python2"
  },
  "language_info": {
   "codemirror_mode": {
    "name": "ipython",
    "version": 2
   },
   "file_extension": ".py",
   "mimetype": "text/x-python",
   "name": "python",
   "nbconvert_exporter": "python",
   "pygments_lexer": "ipython2",
   "version": "2.7.9"
  }
 },
 "nbformat": 4,
 "nbformat_minor": 0
}
